{
 "cells": [
  {
   "cell_type": "code",
   "execution_count": 2,
   "id": "9850d513",
   "metadata": {},
   "outputs": [],
   "source": [
    "namaste <- c(\"shree ganeshayah namah!!!\")"
   ]
  },
  {
   "cell_type": "code",
   "execution_count": 3,
   "id": "ca76d3fe",
   "metadata": {},
   "outputs": [
    {
     "name": "stdout",
     "output_type": "stream",
     "text": [
      "[1] \"shree ganeshayah namah!!!\"\n"
     ]
    }
   ],
   "source": [
    "print(namaste)"
   ]
  },
  {
   "cell_type": "code",
   "execution_count": null,
   "id": "f74261f0",
   "metadata": {},
   "outputs": [],
   "source": []
  }
 ],
 "metadata": {
  "kernelspec": {
   "display_name": "R",
   "language": "R",
   "name": "ir"
  },
  "language_info": {
   "codemirror_mode": "r",
   "file_extension": ".r",
   "mimetype": "text/x-r-source",
   "name": "R",
   "pygments_lexer": "r",
   "version": "4.2.2"
  }
 },
 "nbformat": 4,
 "nbformat_minor": 5
}
