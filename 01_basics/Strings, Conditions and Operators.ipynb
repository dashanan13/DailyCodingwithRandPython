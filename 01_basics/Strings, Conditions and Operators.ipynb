{
 "cells": [
  {
   "cell_type": "code",
   "execution_count": 1,
   "id": "ffa2a48d",
   "metadata": {},
   "outputs": [
    {
     "name": "stdout",
     "output_type": "stream",
     "text": [
      "hello, World!!!\n"
     ]
    }
   ],
   "source": [
    "print('hello, World!!!')"
   ]
  },
  {
   "cell_type": "code",
   "execution_count": 2,
   "id": "b8c58b93",
   "metadata": {},
   "outputs": [
    {
     "name": "stdout",
     "output_type": "stream",
     "text": [
      "What is your name?\n",
      "Mohit\n"
     ]
    }
   ],
   "source": [
    "print('What is your name?')\n",
    "name = input()"
   ]
  },
  {
   "cell_type": "code",
   "execution_count": 3,
   "id": "6326cc21",
   "metadata": {},
   "outputs": [
    {
     "name": "stdout",
     "output_type": "stream",
     "text": [
      "Hello, Mohit\n"
     ]
    }
   ],
   "source": [
    "print('Hello, ' + name)"
   ]
  },
  {
   "cell_type": "code",
   "execution_count": 1,
   "id": "a7c39f73",
   "metadata": {},
   "outputs": [
    {
     "name": "stdout",
     "output_type": "stream",
     "text": [
      "What is your name?\n",
      "Mohit\n",
      "Hello, Mohit\n"
     ]
    }
   ],
   "source": [
    "#Print and Input\n",
    "print(\"What is your name?\")\n",
    "name = input()\n",
    "print(\"Hello, \" + name)"
   ]
  },
  {
   "cell_type": "code",
   "execution_count": 2,
   "id": "adf84e4d",
   "metadata": {},
   "outputs": [
    {
     "name": "stdout",
     "output_type": "stream",
     "text": [
      "First Number:\n",
      "5\n",
      "Second Number:\n",
      "6\n",
      "Concatination of the numbers is: 56\n"
     ]
    }
   ],
   "source": [
    "# Concatination operator\n",
    "print(\"First Number:\")\n",
    "first_number = input()\n",
    "print(\"Second Number:\")\n",
    "second_number = input()\n",
    "sum = first_number + second_number\n",
    "print('Concatination of the numbers is: ' + sum)"
   ]
  },
  {
   "cell_type": "code",
   "execution_count": 8,
   "id": "00107d65",
   "metadata": {},
   "outputs": [
    {
     "name": "stdout",
     "output_type": "stream",
     "text": [
      "First Number:\n",
      "6\n",
      "Second Number:\n",
      "5\n",
      "Sum of the numbers is: 11\n"
     ]
    }
   ],
   "source": [
    "#Typecasting\n",
    "# Addition operator with type casting of the input as integer from String\n",
    "print(\"First Number:\")\n",
    "first_number = int(input())   # typecasting input string to integer so they can be added\n",
    "print(\"Second Number:\")\n",
    "second_number = int(input())\n",
    "sum = first_number + second_number\n",
    "print('Sum of the numbers is: ' + str(sum)) # typecasting the result to string from integer so it can be concatinated with a string and be printed together"
   ]
  },
  {
   "cell_type": "code",
   "execution_count": 7,
   "id": "867a0961",
   "metadata": {},
   "outputs": [
    {
     "name": "stdout",
     "output_type": "stream",
     "text": [
      "Today's Date:\n",
      "25.12.2021\n",
      "Breakfast calories:\n",
      "500\n",
      "Lunch calories:\n",
      "600\n",
      "Dinner calories:\n",
      "1000\n",
      "Snack calories:\n",
      "100\n",
      "Calories consumed on :25.12.2021 are: 2200\n"
     ]
    }
   ],
   "source": [
    "#Calorie counter\n",
    "print(\"Today's Date:\")\n",
    "mydate = input()\n",
    "print(\"Breakfast calories:\")\n",
    "mybcal = int(input()) \n",
    "print(\"Lunch calories:\")\n",
    "mylcal = int(input()) \n",
    "print(\"Dinner calories:\")\n",
    "mydcal = int(input()) \n",
    "print(\"Snack calories:\")\n",
    "myscal = int(input()) \n",
    "\n",
    "print(\"Calories consumed on :\" + mydate + ' are: ' + str(mybcal+mylcal+mydcal+myscal))\n"
   ]
  },
  {
   "cell_type": "code",
   "execution_count": 11,
   "id": "1b5d2024",
   "metadata": {},
   "outputs": [
    {
     "name": "stdout",
     "output_type": "stream",
     "text": [
      "The value is not 7\n",
      "Finished!\n"
     ]
    }
   ],
   "source": [
    "#Decisions\n",
    "\n",
    "value = '8'\n",
    "    \n",
    "if value == '7':\n",
    "    print('The value is 7')\n",
    "elif value == '8':\n",
    "    print('The value is 8')\n",
    "elif value == '9':\n",
    "    print('The value is 9')\n",
    "else:\n",
    "    print('The value is not one we are looking for')"
   ]
  },
  {
   "cell_type": "code",
   "execution_count": 12,
   "id": "18cc272e",
   "metadata": {},
   "outputs": [
    {
     "name": "stdout",
     "output_type": "stream",
     "text": [
      "Got here!\n"
     ]
    }
   ],
   "source": [
    "#Nested If\n",
    "\n",
    "first_value = True\n",
    "second_value = '6'\n",
    "    \n",
    "if first_value:\n",
    "    if second_value == '6':\n",
    "        print('Got here!')"
   ]
  },
  {
   "cell_type": "code",
   "execution_count": 13,
   "id": "526f94cf",
   "metadata": {},
   "outputs": [
    {
     "name": "stdout",
     "output_type": "stream",
     "text": [
      "<class 'str'>\n",
      "<class 'int'>\n",
      "<class 'bool'>\n",
      "<class 'bool'>\n",
      "<class 'str'>\n",
      "<class 'str'>\n"
     ]
    }
   ],
   "source": [
    "# Data types\n",
    "print(type('Hello world'))\n",
    "print(type(7))\n",
    "\n",
    "print(type(True))\n",
    "print(type(False))\n",
    "\n",
    "print(type('True'))\n",
    "print(type('False'))"
   ]
  },
  {
   "cell_type": "code",
   "execution_count": 14,
   "id": "8f10013b",
   "metadata": {},
   "outputs": [
    {
     "name": "stdout",
     "output_type": "stream",
     "text": [
      "False\n",
      "True\n"
     ]
    }
   ],
   "source": [
    "#Boolean\n",
    "\n",
    "print(1 + 1 == 3)\n",
    "print(1 + 1 == 2)"
   ]
  },
  {
   "cell_type": "code",
   "execution_count": 16,
   "id": "86c701af",
   "metadata": {},
   "outputs": [],
   "source": [
    "# Operator"
   ]
  },
  {
   "cell_type": "code",
   "execution_count": 17,
   "id": "bf248fc9",
   "metadata": {},
   "outputs": [
    {
     "name": "stdout",
     "output_type": "stream",
     "text": [
      "False\n",
      "True\n",
      "False\n",
      "True\n",
      "False\n",
      "True\n"
     ]
    }
   ],
   "source": [
    "\n",
    "#Arithmetic operators\n",
    "print(3 == 4)\n",
    "print(3 != 4)\n",
    "\n",
    "print(3 > 4)\n",
    "print(3 < 4)\n",
    "print(3 >= 4)\n",
    "print(3 <= 4)"
   ]
  },
  {
   "cell_type": "code",
   "execution_count": 18,
   "id": "796fc2fc",
   "metadata": {},
   "outputs": [
    {
     "name": "stdout",
     "output_type": "stream",
     "text": [
      "The value is between 1 and 10.\n",
      "At least one value is greater than 1\n",
      "False\n",
      "True\n",
      "Both values do NOT pass the test\n"
     ]
    }
   ],
   "source": [
    "\n",
    "#Logical operators\n",
    "first_number = 5\n",
    "second_number = 0\n",
    "true_value = True\n",
    "false_value = False\n",
    "\n",
    "if first_number > 1 and first_number < 10:\n",
    "    print('The value is between 1 and 10.')\n",
    "\n",
    "if first_number > 1 or second_number > 1:\n",
    "    print('At least one value is greater than 1')\n",
    "\n",
    "print(not true_value)\n",
    "print(not false_value)\n",
    "\n",
    "if not first_number > 1 and second_number < 10:\n",
    "    print('Both values pass the test')\n",
    "else:\n",
    "    print('Both values do NOT pass the test')\n",
    "\n"
   ]
  },
  {
   "cell_type": "code",
   "execution_count": 19,
   "id": "9b17a7dc",
   "metadata": {},
   "outputs": [],
   "source": [
    "#Assignment operators\n",
    "#Bitwise operators\n",
    "#Comparison operators\n",
    "#Identity operators\n",
    "#Membership operators"
   ]
  },
  {
   "cell_type": "code",
   "execution_count": 20,
   "id": "25de298b",
   "metadata": {},
   "outputs": [
    {
     "name": "stdout",
     "output_type": "stream",
     "text": [
      "Would you like to continue? y\n",
      "Continuing ...\n",
      "Complete!\n"
     ]
    }
   ],
   "source": [
    "# Challenge: User input based execution\n",
    "\n",
    "value = input('Would you like to continue? ')\n",
    "\n",
    "if value == 'y' or value == 'yes':\n",
    "    print('Continuing ...')\n",
    "    print('Complete!')\n",
    "elif value == 'n' or value == 'no':\n",
    "    print('Exiting')\n",
    "else:\n",
    "    print('Please try again and respond with yes or no.')"
   ]
  },
  {
   "cell_type": "code",
   "execution_count": 21,
   "id": "fef2a968",
   "metadata": {},
   "outputs": [
    {
     "data": {
      "text/plain": [
       "False"
      ]
     },
     "execution_count": 21,
     "metadata": {},
     "output_type": "execute_result"
    }
   ],
   "source": [
    "x = 6\n",
    "not x"
   ]
  },
  {
   "cell_type": "code",
   "execution_count": null,
   "id": "5ed58878",
   "metadata": {},
   "outputs": [],
   "source": [
    "#Manipulate and format string data for display in Python"
   ]
  },
  {
   "cell_type": "code",
   "execution_count": 22,
   "id": "fb0f68a6",
   "metadata": {},
   "outputs": [
    {
     "name": "stdout",
     "output_type": "stream",
     "text": [
      "True\n"
     ]
    }
   ],
   "source": [
    "first_string = 'A literal string'\n",
    "second_string = \"A literal string\"\n",
    "print(second_string == first_string)"
   ]
  },
  {
   "cell_type": "code",
   "execution_count": 23,
   "id": "3874d48f",
   "metadata": {},
   "outputs": [
    {
     "name": "stdout",
     "output_type": "stream",
     "text": [
      "A single quoted literal string with a \" double quote\n",
      "A double quoted literal string with a ' single quote\n"
     ]
    }
   ],
   "source": [
    "third_string = 'A single quoted literal string with a \" double quote'\n",
    "fourth_string = \"A double quoted literal string with a ' single quote\"\n",
    "print(third_string)\n",
    "print(fourth_string)"
   ]
  },
  {
   "cell_type": "code",
   "execution_count": 24,
   "id": "52d18c79",
   "metadata": {},
   "outputs": [
    {
     "name": "stdout",
     "output_type": "stream",
     "text": [
      "A single quoted literal string with an ' escaped single quote\n",
      "A double quoted literal string with a \" double quote\n",
      "A literal string with a \n",
      " new line character\n",
      "A literal string with a \t tab character\n"
     ]
    }
   ],
   "source": [
    "fifth_string = 'A single quoted literal string with an \\' escaped single quote'\n",
    "sixth_string = \"A double quoted literal string with a \\\" double quote\"\n",
    "seventh_string = 'A literal string with a \\n new line character'\n",
    "eighth_string = 'A literal string with a \\t tab character'\n",
    "\n",
    "print(fifth_string)\n",
    "print(sixth_string)\n",
    "print(seventh_string)\n",
    "print(eighth_string)"
   ]
  },
  {
   "cell_type": "code",
   "execution_count": 25,
   "id": "37c2af51",
   "metadata": {},
   "outputs": [
    {
     "name": "stdout",
     "output_type": "stream",
     "text": [
      "A literal string with a \\n new line character printed raw\n"
     ]
    }
   ],
   "source": [
    "# code that displays raw strings\n",
    "# But what if you need to display the contents of an escape sequence without performing the escape sequence's command? \n",
    "# In other words, what if you need to literally display the value \\n? \n",
    "\n",
    "ninth_string = r\"A literal string with a \\n new line character printed raw\"\n",
    "\n",
    "print(ninth_string)"
   ]
  },
  {
   "cell_type": "code",
   "execution_count": 26,
   "id": "22aebe57",
   "metadata": {},
   "outputs": [
    {
     "name": "stdout",
     "output_type": "stream",
     "text": [
      "A literal string\n",
      "on more than one line\n",
      "sometimes known as a verbatim string\n",
      "Another literal string\n",
      "     on more than one line\n",
      "using double quotes\n"
     ]
    }
   ],
   "source": [
    "# Multi-line strings\n",
    "tenth_string = '''A literal string\n",
    "on more than one line\n",
    "sometimes known as a verbatim string'''\n",
    "\n",
    "eleventh_string = \"\"\"Another literal string\n",
    "     on more than one line\n",
    "using double quotes\"\"\"\n",
    "\n",
    "print(tenth_string)\n",
    "print(eleventh_string)"
   ]
  },
  {
   "cell_type": "code",
   "execution_count": 29,
   "id": "d47845b7",
   "metadata": {},
   "outputs": [
    {
     "name": "stdout",
     "output_type": "stream",
     "text": [
      "Conrad Grant\n",
      "Conrad Grant Bob\n",
      "Conrad-Grant-Bob\n",
      "Conrad-Grant-Bob."
     ]
    }
   ],
   "source": [
    "# Formats string by using the print() function\n",
    "first = 'Conrad'\n",
    "second = 'Grant'\n",
    "third = 'Bob'\n",
    "print(first, second)\n",
    "print(first, second, third)\n",
    "print(first, second, third, sep='-')\n",
    "print(first, second, third, sep='-', end='.')"
   ]
  },
  {
   "cell_type": "code",
   "execution_count": null,
   "id": "dbb4e9e0",
   "metadata": {},
   "outputs": [],
   "source": [
    "#Helper Functions"
   ]
  },
  {
   "cell_type": "code",
   "execution_count": 30,
   "id": "e4261e32",
   "metadata": {},
   "outputs": [
    {
     "name": "stdout",
     "output_type": "stream",
     "text": [
      "First message\n",
      "Second message\n",
      "Third message\n"
     ]
    }
   ],
   "source": [
    "# Capitalize\n",
    "\n",
    "message = str.capitalize('first message')\n",
    "print(message)\n",
    "\n",
    "message = 'second message'.capitalize()\n",
    "print(message)\n",
    "\n",
    "message = 'third message'\n",
    "print(message.capitalize())"
   ]
  },
  {
   "cell_type": "code",
   "execution_count": 31,
   "id": "12908398",
   "metadata": {},
   "outputs": [
    {
     "name": "stdout",
     "output_type": "stream",
     "text": [
      "hello world\n",
      "HELLO WORLD\n",
      "Hello World\n",
      "hELLO wORLD\n"
     ]
    }
   ],
   "source": [
    "# Upper case and Lower case\n",
    "\n",
    "message = 'hello world'\n",
    "print(message.lower())\n",
    "print(message.upper())\n",
    "\n",
    "message = message.title()\n",
    "print(message)\n",
    "print(message.swapcase())"
   ]
  },
  {
   "cell_type": "code",
   "execution_count": 42,
   "id": "466774b0",
   "metadata": {},
   "outputs": [
    {
     "name": "stdout",
     "output_type": "stream",
     "text": [
      "Count: 4\n",
      "Starts with: True\n",
      "Starts with: False\n",
      "Starts with: True\n",
      "Ends with: True\n",
      "Ends with: False\n",
      "Ends with: True\n",
      "Length is: 35\n"
     ]
    },
    {
     "ename": "AttributeError",
     "evalue": "'str' object has no attribute 'len'",
     "output_type": "error",
     "traceback": [
      "\u001b[0;31m---------------------------------------------------------------------------\u001b[0m",
      "\u001b[0;31mAttributeError\u001b[0m                            Traceback (most recent call last)",
      "\u001b[0;32m/tmp/ipykernel_55898/1379151885.py\u001b[0m in \u001b[0;36m<module>\u001b[0;34m\u001b[0m\n\u001b[1;32m     17\u001b[0m \u001b[0;31m# length\u001b[0m\u001b[0;34m\u001b[0m\u001b[0;34m\u001b[0m\u001b[0;34m\u001b[0m\u001b[0m\n\u001b[1;32m     18\u001b[0m \u001b[0mprint\u001b[0m\u001b[0;34m(\u001b[0m\u001b[0;34m\"Length is: \"\u001b[0m \u001b[0;34m+\u001b[0m \u001b[0mstr\u001b[0m\u001b[0;34m(\u001b[0m\u001b[0mlen\u001b[0m\u001b[0;34m(\u001b[0m\u001b[0;34m'how many characters in this string?'\u001b[0m\u001b[0;34m)\u001b[0m\u001b[0;34m)\u001b[0m\u001b[0;34m)\u001b[0m\u001b[0;34m\u001b[0m\u001b[0;34m\u001b[0m\u001b[0m\n\u001b[0;32m---> 19\u001b[0;31m \u001b[0mprint\u001b[0m\u001b[0;34m(\u001b[0m\u001b[0;34m\"Length is: \"\u001b[0m \u001b[0;34m+\u001b[0m \u001b[0mstr\u001b[0m\u001b[0;34m(\u001b[0m\u001b[0;34m'how many characters in this string?'\u001b[0m\u001b[0;34m.\u001b[0m\u001b[0mlen\u001b[0m\u001b[0;34m(\u001b[0m\u001b[0;34m)\u001b[0m\u001b[0;34m)\u001b[0m\u001b[0;34m)\u001b[0m\u001b[0;34m\u001b[0m\u001b[0;34m\u001b[0m\u001b[0m\n\u001b[0m\u001b[1;32m     20\u001b[0m \u001b[0;34m\u001b[0m\u001b[0m\n\u001b[1;32m     21\u001b[0m \u001b[0;31m# find\u001b[0m\u001b[0;34m\u001b[0m\u001b[0;34m\u001b[0m\u001b[0;34m\u001b[0m\u001b[0m\n",
      "\u001b[0;31mAttributeError\u001b[0m: 'str' object has no attribute 'len'"
     ]
    }
   ],
   "source": [
    "# Query the string\n",
    "\n",
    "# Count\n",
    "location = 'Mississippi'\n",
    "print(\"Count: \" + str(location.count('s')))\n",
    "\n",
    "# startswith() and endswith()\n",
    "message = 'racecar'\n",
    "print(\"Starts with: \" + str(message.startswith('r')))\n",
    "print(\"Starts with: \" + str(message.startswith('a')))\n",
    "print(\"Starts with: \" + str(message.startswith('ra')))\n",
    "\n",
    "print(\"Ends with: \" + str(message.endswith('r')))\n",
    "print(\"Ends with: \" + str(message.endswith('a')))\n",
    "print(\"Ends with: \" + str(message.endswith('ar')))\n",
    "\n",
    "# length\n",
    "print(\"Length is: \" + str(len('how many characters in this string?')))\n",
    "\n",
    "# find\n",
    "message = 'The quick brown fox jumps over the lazy dog'\n",
    "print(\"Found q at: \" + str(message.find('q')))\n",
    "\n",
    "print(\"Found t at: \" + str(message.find('t')))\n",
    "print(\"Found T at: \" + str(message.find('T')))\n"
   ]
  },
  {
   "cell_type": "code",
   "execution_count": 35,
   "id": "51b74b34",
   "metadata": {},
   "outputs": [
    {
     "name": "stdout",
     "output_type": "stream",
     "text": [
      ".middle     .\n",
      ".    middle.\n",
      ".middle.\n"
     ]
    }
   ],
   "source": [
    "#strip characters\n",
    "message = '    middle     '\n",
    "print('.' + message.lstrip() + '.')\n",
    "print('.' + message.rstrip() + '.')\n",
    "print('.' + message.strip() + '.')"
   ]
  },
  {
   "cell_type": "code",
   "execution_count": 36,
   "id": "b4383240",
   "metadata": {},
   "outputs": [
    {
     "name": "stdout",
     "output_type": "stream",
     "text": [
      "brevity is the soul of wit\n"
     ]
    }
   ],
   "source": [
    "# replace string\n",
    "\n",
    "message = 'brevity is the essence of wit'\n",
    "message = message.replace('essence', 'soul')\n",
    "print(message)"
   ]
  },
  {
   "cell_type": "code",
   "execution_count": 37,
   "id": "654a6ac5",
   "metadata": {},
   "outputs": [
    {
     "name": "stdout",
     "output_type": "stream",
     "text": [
      "               howdy\n",
      "---------------howdy\n",
      "howdy               \n",
      "howdy---------------\n"
     ]
    }
   ],
   "source": [
    "# justifies a string by adding empty space characters\n",
    "message = 'howdy'\n",
    "print(message.rjust(20))\n",
    "print(message.rjust(20, '-'))\n",
    "print(message.ljust(20))\n",
    "print(message.ljust(20, '-'))"
   ]
  },
  {
   "cell_type": "code",
   "execution_count": 39,
   "id": "9ced0c8f",
   "metadata": {},
   "outputs": [
    {
     "name": "stdout",
     "output_type": "stream",
     "text": [
      "Coughussin - Take 5 ML by mouth every 4.5 hours\n",
      "4.5 - Take 5 ML by mouth every Coughussin hours\n",
      "Sneezergen - Take 10 ML by mouth every 6 hours\n",
      "Hello, World.\n",
      "Count to 10.  Multiply by 3.14.\n"
     ]
    }
   ],
   "source": [
    "#!!!!FORMAT STRING!!!!\n",
    "\n",
    "medicine = 'Coughussin'\n",
    "dosage = 5\n",
    "duration = 4.5\n",
    "\n",
    "instructions = '{} - Take {} ML by mouth every {} hours'.format(medicine, dosage, duration)\n",
    "print(instructions)\n",
    "\n",
    "instructions = '{2} - Take {1} ML by mouth every {0} hours'.format(medicine, dosage, duration)\n",
    "print(instructions)\n",
    "\n",
    "instructions = '{medicine} - Take {dosage} ML by mouth every {duration} hours'.format(medicine = 'Sneezergen', dosage = 10, duration = 6)\n",
    "\n",
    "print(instructions)\n",
    "\n",
    "\n",
    "\n",
    "# Modern syntax\n",
    "name = 'World'\n",
    "message = f'Hello, {name}.'\n",
    "print(message)\n",
    "\n",
    "count = 10\n",
    "value = 3.14\n",
    "message = f'Count to {count}.  Multiply by {value}.'\n",
    "print(message)\n",
    "\n",
    "width = 5\n",
    "height = 10\n",
    "\n",
    "print(f'The perimeter is {(2 * width) + (2 * height)} and the area is {width * height}.')\n",
    "\n"
   ]
  },
  {
   "cell_type": "code",
   "execution_count": 40,
   "id": "9d9e7791",
   "metadata": {},
   "outputs": [
    {
     "name": "stdout",
     "output_type": "stream",
     "text": [
      ".hi                       .\n",
      ".                       hi.\n",
      ".           hi            .\n",
      ".-----------hi------------.\n"
     ]
    }
   ],
   "source": [
    "#A format specifier uses a colon symbol (:) after the variable name, to specify how that value should be formatted.\n",
    "#In the first f-string, we use the less-than symbol (<) to align the text to the left of a string that is 25 total characters wide. The string hi occupies two of the 25 total characters. We add period symbols (.) on the left and right of the replacement field, to help us see the total width of the string.\n",
    "#In the second f-string, we use the greater-than symbol (>) to align the text to the right of a string that is 25 total characters wide.\n",
    "#In the third f-string, we use the caret symbol (^) to center the text in the middle of a string that is 25 total characters wide.\n",
    "#In the fourth f-string, we use the caret symbol (^) again. But this time, we preface it with a single dash symbol (-) to use instead of an empty space to fill the remaining width of the string.\n",
    "\n",
    "value = 'hi'\n",
    "\n",
    "print(f'.{value:<25}.')\n",
    "print(f'.{value:>25}.')\n",
    "print(f'.{value:^25}.')\n",
    "print(f'.{value:-^25}.')"
   ]
  },
  {
   "cell_type": "code",
   "execution_count": null,
   "id": "f74aa29f",
   "metadata": {},
   "outputs": [],
   "source": []
  }
 ],
 "metadata": {
  "kernelspec": {
   "display_name": "Python 3 (ipykernel)",
   "language": "python",
   "name": "python3"
  },
  "language_info": {
   "codemirror_mode": {
    "name": "ipython",
    "version": 3
   },
   "file_extension": ".py",
   "mimetype": "text/x-python",
   "name": "python",
   "nbconvert_exporter": "python",
   "pygments_lexer": "ipython3",
   "version": "3.8.10"
  }
 },
 "nbformat": 4,
 "nbformat_minor": 5
}
