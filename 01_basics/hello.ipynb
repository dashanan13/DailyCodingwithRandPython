{
 "cells": [
  {
   "cell_type": "code",
   "execution_count": 1,
   "id": "be6d04c8",
   "metadata": {},
   "outputs": [
    {
     "name": "stdout",
     "output_type": "stream",
     "text": [
      "hello, World!!!\n"
     ]
    }
   ],
   "source": [
    "print('hello, World!!!')"
   ]
  },
  {
   "cell_type": "code",
   "execution_count": 2,
   "id": "92ec19e9",
   "metadata": {},
   "outputs": [
    {
     "name": "stdout",
     "output_type": "stream",
     "text": [
      "What is your name?\n",
      "Mohit\n"
     ]
    }
   ],
   "source": [
    "print('What is your name?')\n",
    "name = input()"
   ]
  },
  {
   "cell_type": "code",
   "execution_count": 3,
   "id": "8291402b",
   "metadata": {},
   "outputs": [
    {
     "name": "stdout",
     "output_type": "stream",
     "text": [
      "Hello, Mohit\n"
     ]
    }
   ],
   "source": [
    "print('Hello, ' + name)"
   ]
  },
  {
   "cell_type": "code",
   "execution_count": 1,
   "id": "26759a3d",
   "metadata": {},
   "outputs": [
    {
     "name": "stdout",
     "output_type": "stream",
     "text": [
      "What is your name?\n",
      "Mohit\n",
      "Hello, Mohit\n"
     ]
    }
   ],
   "source": [
    "print(\"What is your name?\")\n",
    "name = input()\n",
    "print(\"Hello, \" + name)"
   ]
  },
  {
   "cell_type": "code",
   "execution_count": 2,
   "id": "92d215a5",
   "metadata": {},
   "outputs": [
    {
     "name": "stdout",
     "output_type": "stream",
     "text": [
      "First Number:\n",
      "5\n",
      "Second Number:\n",
      "6\n",
      "Concatination of the numbers is: 56\n"
     ]
    }
   ],
   "source": [
    "# Concatination operator\n",
    "print(\"First Number:\")\n",
    "first_number = input()\n",
    "print(\"Second Number:\")\n",
    "second_number = input()\n",
    "sum = first_number + second_number\n",
    "print('Concatination of the numbers is: ' + sum)"
   ]
  },
  {
   "cell_type": "code",
   "execution_count": 5,
   "id": "c3ea321c",
   "metadata": {},
   "outputs": [
    {
     "name": "stdout",
     "output_type": "stream",
     "text": [
      "First Number:\n",
      "5\n",
      "Second Number:\n",
      "6\n",
      "Sum of the numbers is: 11\n"
     ]
    }
   ],
   "source": [
    "# Addition operator with type casting of the input as integer from String\n",
    "print(\"First Number:\")\n",
    "first_number = int(input())   # typecasting input string to integer so they can be added\n",
    "print(\"Second Number:\")\n",
    "second_number = int(input())\n",
    "sum = first_number + second_number\n",
    "print('Sum of the numbers is: ' + str(sum)) # typecasting the result to string from integer so it can be concatinated with a string and be printed together"
   ]
  },
  {
   "cell_type": "code",
   "execution_count": 7,
   "id": "f41c487b",
   "metadata": {},
   "outputs": [
    {
     "name": "stdout",
     "output_type": "stream",
     "text": [
      "Today's Date:\n",
      "25.12.2021\n",
      "Breakfast calories:\n",
      "500\n",
      "Lunch calories:\n",
      "600\n",
      "Dinner calories:\n",
      "1000\n",
      "Snack calories:\n",
      "100\n",
      "Calories consumed on :25.12.2021 are: 2200\n"
     ]
    }
   ],
   "source": [
    "#calorie counter\n",
    "print(\"Today's Date:\")\n",
    "mydate = input()\n",
    "print(\"Breakfast calories:\")\n",
    "mybcal = int(input()) \n",
    "print(\"Lunch calories:\")\n",
    "mylcal = int(input()) \n",
    "print(\"Dinner calories:\")\n",
    "mydcal = int(input()) \n",
    "print(\"Snack calories:\")\n",
    "myscal = int(input()) \n",
    "\n",
    "print(\"Calories consumed on :\" + mydate + ' are: ' + str(mybcal+mylcal+mydcal+myscal))\n"
   ]
  },
  {
   "cell_type": "code",
   "execution_count": null,
   "id": "4aabb94f",
   "metadata": {},
   "outputs": [],
   "source": []
  }
 ],
 "metadata": {
  "kernelspec": {
   "display_name": "Python 3 (ipykernel)",
   "language": "python",
   "name": "python3"
  },
  "language_info": {
   "codemirror_mode": {
    "name": "ipython",
    "version": 3
   },
   "file_extension": ".py",
   "mimetype": "text/x-python",
   "name": "python",
   "nbconvert_exporter": "python",
   "pygments_lexer": "ipython3",
   "version": "3.8.10"
  }
 },
 "nbformat": 4,
 "nbformat_minor": 5
}
