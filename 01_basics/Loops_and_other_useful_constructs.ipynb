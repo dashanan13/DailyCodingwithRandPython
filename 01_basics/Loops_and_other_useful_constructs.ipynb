{
 "cells": [
  {
   "cell_type": "code",
   "execution_count": 1,
   "id": "da2790af",
   "metadata": {},
   "outputs": [
    {
     "name": "stdout",
     "output_type": "stream",
     "text": [
      "Hello\n"
     ]
    }
   ],
   "source": [
    "print(\"Hello\")"
   ]
  },
  {
   "cell_type": "code",
   "execution_count": 2,
   "id": "51843054",
   "metadata": {},
   "outputs": [
    {
     "name": "stdout",
     "output_type": "stream",
     "text": [
      "<class 'str'>\n",
      "<class 'int'>\n",
      "<class 'float'>\n",
      "True\n",
      "True\n",
      "True\n",
      "False\n",
      "False\n",
      "False\n",
      "True\n",
      "True\n",
      "True\n",
      "False\n",
      "False\n",
      "False\n"
     ]
    }
   ],
   "source": [
    "# Check instance type\n",
    "\n",
    "print(type('7'))\n",
    "print(type(7))\n",
    "print(type(7.1))\n",
    "\n",
    "\n",
    "print(isinstance('7', str))\n",
    "print(isinstance(7, int))\n",
    "print(isinstance(7.1, float))\n",
    "\n",
    "print(isinstance(7, str))\n",
    "print(isinstance('7', int))\n",
    "print(isinstance('7.1', float))\n",
    "\n",
    "# Use type as condition\n",
    "print(type('7') == str)\n",
    "print(type(7) == int)\n",
    "print(type(7.1) == float)\n",
    "\n",
    "print(type(7) == str)\n",
    "print(type('7') == int)\n",
    "print(type('7.1') == float)"
   ]
  },
  {
   "cell_type": "raw",
   "id": "c5d1c02f",
   "metadata": {},
   "source": [
    "#Other is__() functions\n",
    "The Python str data type supports many similar helper functions. As you're getting started, some of the most useful ones include:\n",
    "\n",
    "OTHER IS__() FUNCTIONS\n",
    "Function\tPurpose\n",
    "isalnum()\tEnsures that the string has no special characters, such as %, $, #, @, or !.\n",
    "isalpha()\tEnsures that the string contains only letters of the alphabet.\n",
    "isdecimal()\tEnsures that the string contains only decimal values (numbers).\n",
    "istitle()\tEnsures that the string follows the rules of capitalization (as in a sentence).\n",
    "isupper()\tEnsures that the string contains only uppercase letters.\n",
    "islower()\tEnsures that the string contains only lowercase letters."
   ]
  },
  {
   "cell_type": "code",
   "execution_count": 1,
   "id": "d884049d",
   "metadata": {},
   "outputs": [
    {
     "name": "stdout",
     "output_type": "stream",
     "text": [
      "First Number: \n",
      "Second Number: r\n",
      "Please enter numbers only.\n"
     ]
    }
   ],
   "source": [
    "# OR + If Else + type check\n",
    "\n",
    "first_value = input('First Number: ')\n",
    "second_value = input('Second Number: ')\n",
    "\n",
    "if first_value.isnumeric() == False or second_value.isnumeric() == False:\n",
    "    print('Please enter numbers only.')\n",
    "    exit()\n",
    "else:\n",
    "    first_value = int(first_value)\n",
    "    second_value = int(second_value)\n",
    "\n",
    "    sum = first_value + second_value\n",
    "    print('Sum: ' + str(sum))"
   ]
  },
  {
   "cell_type": "code",
   "execution_count": 2,
   "id": "72cad4ad",
   "metadata": {},
   "outputs": [
    {
     "name": "stdout",
     "output_type": "stream",
     "text": [
      "Sum: 9\n",
      "Difference: 1\n",
      "Product: 20\n",
      "Quotient: 1.25\n",
      "Modulus: 1\n",
      "Exponent: 625\n",
      "23\n",
      "35\n"
     ]
    }
   ],
   "source": [
    "# mathematical operations\n",
    "first_value = 5\n",
    "second_value = 4\n",
    "\n",
    "sum = first_value + second_value\n",
    "difference = first_value - second_value\n",
    "product = first_value * second_value\n",
    "quotient = first_value / second_value\n",
    "modulus = first_value % second_value\n",
    "exponent = first_value ** second_value \n",
    "\n",
    "print('Sum: ' + str(sum))\n",
    "print('Difference: ' + str(difference))\n",
    "print('Product: ' + str(product))\n",
    "print('Quotient: ' + str(quotient))\n",
    "print('Modulus: ' + str(modulus))\n",
    "print('Exponent: ' + str(exponent))\n",
    "\n",
    "#BODMAS\n",
    "print(3 + 4 * 5)\n",
    "print((3 + 4) * 5)"
   ]
  },
  {
   "cell_type": "code",
   "execution_count": 3,
   "id": "28fce44a",
   "metadata": {},
   "outputs": [
    {
     "name": "stdout",
     "output_type": "stream",
     "text": [
      "<class 'float'>\n",
      "3\n",
      "3\n",
      "<class 'float'>\n",
      "99\n",
      "100\n"
     ]
    }
   ],
   "source": [
    "#int and float\n",
    "\n",
    "pi = 3.14\n",
    "print(type(pi))\n",
    "print(int(pi))\n",
    "print(round(pi))\n",
    "\n",
    "uptime = 99.99\n",
    "print(type(uptime))\n",
    "print(int(uptime))\n",
    "print(round(uptime))"
   ]
  },
  {
   "cell_type": "code",
   "execution_count": 4,
   "id": "6a017ce4",
   "metadata": {},
   "outputs": [
    {
     "name": "stdout",
     "output_type": "stream",
     "text": [
      "7.65\n",
      "9.877\n"
     ]
    }
   ],
   "source": [
    "# round up\n",
    "first_value = round(7.654321, 2)\n",
    "print(first_value)\n",
    "\n",
    "second_value = round(9.87654, 3)\n",
    "print(second_value)"
   ]
  },
  {
   "cell_type": "code",
   "execution_count": 1,
   "id": "c4899e17",
   "metadata": {},
   "outputs": [
    {
     "name": "stdout",
     "output_type": "stream",
     "text": [
      "What is the temperature in Fahrenheit?  100\n",
      "Temperature in celsius is 37\n"
     ]
    }
   ],
   "source": [
    "# Convert temperature from Fahrenheit to Celsius\n",
    "fahrenheit = input('What is the temperature in Fahrenheit?  ')\n",
    "\n",
    "if fahrenheit.isnumeric() == False:\n",
    "    print('Input is not a number.')\n",
    "    exit()\n",
    "\n",
    "fahrenheit = int(fahrenheit)\n",
    "\n",
    "celsius = int((fahrenheit - 32) * 5/9)\n",
    "print('Temperature in celsius is ' + str(celsius))"
   ]
  },
  {
   "cell_type": "code",
   "execution_count": 1,
   "id": "c88b55f3",
   "metadata": {},
   "outputs": [
    {
     "name": "stdout",
     "output_type": "stream",
     "text": [
      "Simple calculator!\n",
      "First number? 7\n",
      "Operation? *\n",
      "Second number? 8\n",
      "product of 7 * 8 equals 56\n"
     ]
    }
   ],
   "source": [
    "#Calculator\n",
    "print('Simple calculator!')\n",
    "\n",
    "first_number = input('First number? ')\n",
    "\n",
    "if first_number.isnumeric() == False:\n",
    "    print('Please input a number.')\n",
    "    exit()\n",
    "\n",
    "operation = input('Operation? ')\n",
    "\n",
    "second_number = input('Second number? ')\n",
    "\n",
    "if second_number.isnumeric() == False:\n",
    "    print('Please input a number.')\n",
    "    exit()\n",
    "\n",
    "first_number = int(first_number)\n",
    "second_number = int(second_number)\n",
    "\n",
    "result = 0\n",
    "if operation == '+':\n",
    "    result = first_number + second_number\n",
    "    label = 'sum'\n",
    "elif operation == '-':\n",
    "    result = first_number - second_number\n",
    "    label = 'difference'\n",
    "elif operation == '*':\n",
    "    result = first_number * second_number\n",
    "    label = 'product'\n",
    "elif operation == '/':\n",
    "    result = first_number / second_number\n",
    "    label = 'quotient'\n",
    "elif operation == '**':\n",
    "    result = first_number ** second_number\n",
    "    label = 'exponent'\n",
    "elif operation == '%':\n",
    "    result = first_number % second_number\n",
    "    label = 'modulus'\n",
    "else:\n",
    "    print('Operation not recognized.')\n",
    "    exit()\n",
    "\n",
    "print(label + ' of ' + str(first_number) + ' ' + operation + ' ' + str(second_number) + ' equals ' + str(result))"
   ]
  },
  {
   "cell_type": "markdown",
   "id": "49d98fe9",
   "metadata": {},
   "source": [
    "# PIP and import"
   ]
  },
  {
   "cell_type": "code",
   "execution_count": 19,
   "id": "963e5c7b",
   "metadata": {},
   "outputs": [
    {
     "name": "stdout",
     "output_type": "stream",
     "text": [
      "You rolled 7\n",
      "Randomly choosed number from list42\n",
      "Randomly choosed list of number from list[23, 8, 8]\n"
     ]
    }
   ],
   "source": [
    "#Use an import statement to utilize a standard library module\n",
    "\n",
    "import random as alias\n",
    "\n",
    "roll = alias.randint(1, 10)\n",
    "print(f'You rolled {roll}')\n",
    "\n",
    "\n",
    "import random\n",
    "\n",
    "numbers = [42, 77, 16, 101, 23, 8, 4, 15, 55]\n",
    "selected_number = random.choice(numbers)\n",
    "print(\"Randomly choosed number from list\" + str(selected_number))\n",
    "\n",
    "selected_numbers = random.choices(numbers, k=3)\n",
    "print(\"Randomly choosed list of number from list\" + str(selected_numbers))"
   ]
  },
  {
   "cell_type": "code",
   "execution_count": 5,
   "id": "38804342",
   "metadata": {},
   "outputs": [
    {
     "name": "stdout",
     "output_type": "stream",
     "text": [
      "Collecting emoji\n",
      "  Downloading emoji-1.6.1.tar.gz (170 kB)\n",
      "\u001b[K     |████████████████████████████████| 170 kB 20.8 MB/s eta 0:00:01\n",
      "\u001b[?25hBuilding wheels for collected packages: emoji\n",
      "  Building wheel for emoji (setup.py) ... \u001b[?25ldone\n",
      "\u001b[?25h  Created wheel for emoji: filename=emoji-1.6.1-py3-none-any.whl size=169293 sha256=57904494a429ba26749b871cad71385c4c77a98094f293ef8f06fa093b6cff81\n",
      "  Stored in directory: /home/devops/.cache/pip/wheels/04/29/50/1e7189f03d2cf139e469863d54a1d3eabeb10c92c84e51f8a1\n",
      "Successfully built emoji\n",
      "Installing collected packages: emoji\n",
      "Successfully installed emoji-1.6.1\n"
     ]
    }
   ],
   "source": [
    "# Use pip to install the emoji package\n",
    "\n",
    "!pip install emoji"
   ]
  },
  {
   "cell_type": "code",
   "execution_count": 6,
   "id": "e7550281",
   "metadata": {},
   "outputs": [
    {
     "name": "stdout",
     "output_type": "stream",
     "text": [
      "Howdy 🌞\n"
     ]
    }
   ],
   "source": [
    "import emoji\n",
    "message = emoji.emojize('Howdy :sun_with_face:')\n",
    "print(message)"
   ]
  },
  {
   "cell_type": "markdown",
   "id": "5debdfdb",
   "metadata": {},
   "source": [
    "# Loops"
   ]
  },
  {
   "cell_type": "code",
   "execution_count": 8,
   "id": "9ea5f35d",
   "metadata": {},
   "outputs": [
    {
     "name": "stdout",
     "output_type": "stream",
     "text": [
      "First person to roll a 5 wins!\n",
      "Enter a name, or 'q' to quit:  mohit\n",
      "mohit rolled 3\n",
      "Enter a name, or 'q' to quit:  mohit\n",
      "mohit rolled 3\n",
      "Enter a name, or 'q' to quit:  mohit\n",
      "mohit rolled 3\n",
      "Enter a name, or 'q' to quit:  mohit\n",
      "mohit rolled 2\n",
      "Enter a name, or 'q' to quit:  q\n",
      "You rolled the dice 4 times.\n"
     ]
    }
   ],
   "source": [
    "# While loop\n",
    "\n",
    "import random \n",
    "\n",
    "roll = 0\n",
    "count = 0\n",
    "\n",
    "print('First person to roll a 5 wins!')\n",
    "while roll != 5:\n",
    "  name = input('Enter a name, or \\'q\\' to quit:  ' )\n",
    "\n",
    "  if name.strip() == '':\n",
    "      continue\n",
    "\n",
    "  if name.strip() == 'q':\n",
    "      break\n",
    "  \n",
    "  count = count + 1\n",
    "  roll = random.randint(1, 5)\n",
    "  print(f'{name} rolled {roll}')\n",
    "else:                                                         <---- notice the indentation\n",
    "    print(f'{name} Wins!!!')\n",
    "\n",
    "print(f'You rolled the dice {count} times.')\n",
    "\n",
    "# If the player continues to enter names until a 5 is rolled, the Boolean expression is no longer True. \n",
    "# Then the code execution path skips to the else statement to print the winning message.\n",
    "# The break statement instructs the Python interpreter to exit the loop and continue running the code after the while statement's code block.\n",
    "# In this case, the else statement is skipped--there's no winner."
   ]
  },
  {
   "cell_type": "markdown",
   "id": "1fbb0fd2",
   "metadata": {},
   "source": [
    "# Work with lists of data"
   ]
  },
  {
   "cell_type": "code",
   "execution_count": 9,
   "id": "b2154c78",
   "metadata": {},
   "outputs": [
    {
     "name": "stdout",
     "output_type": "stream",
     "text": [
      "['red', 'green', 'blue', 'yellow', 'orange', 'purple', 'brown']\n",
      "<class 'list'>\n",
      "0-based indexing into the list ... second item: green\n",
      "Last item of the list: brown\n",
      "Next to last item in the list: purple\n"
     ]
    }
   ],
   "source": [
    "colors = ['red', 'green', 'blue', 'yellow', 'orange', 'purple', 'brown']\n",
    "\n",
    "print(colors)\n",
    "print(type(colors))\n",
    "\n",
    "print(f'0-based indexing into the list ... second item: {colors[1]}')\n",
    "\n",
    "print(f'Last item of the list: {colors[-1]}')\n",
    "\n",
    "print(f'Next to last item in the list: {colors[-2]}')"
   ]
  },
  {
   "cell_type": "code",
   "execution_count": 10,
   "id": "ce31535a",
   "metadata": {},
   "outputs": [
    {
     "name": "stdout",
     "output_type": "stream",
     "text": [
      "\n",
      "Print a slice, starting at index 2 to index 5 (index 5 excluded):\n",
      "['blue', 'yellow', 'orange']\n",
      "<class 'list'>\n",
      "\n",
      "Print a slice, starting at index 0 to index 3 (index 3 excluded):\n",
      "['red', 'green', 'blue']\n",
      "\n",
      "Print a slice, starting at index 4 to the end of the list (last item included):\n",
      "['orange', 'purple', 'brown']\n",
      "\n",
      "Print a slice, starting at the 4th from the end to the 2nd from the end (last item excluded):\n",
      "['yellow', 'orange', 'purple']\n"
     ]
    }
   ],
   "source": [
    "# slicing\n",
    "colors = ['red', 'green', 'blue', 'yellow', 'orange', 'purple', 'brown']\n",
    "\n",
    "print('\\nPrint a slice, starting at index 2 to index 5 (index 5 excluded):')\n",
    "print(colors[2:5])\n",
    "print(type(colors[2:5]))\n",
    "\n",
    "print('\\nPrint a slice, starting at index 0 to index 3 (index 3 excluded):')\n",
    "print(colors[:3])\n",
    "\n",
    "print('\\nPrint a slice, starting at index 4 to the end of the list (last item included):')\n",
    "print(colors[4:])\n",
    "\n",
    "print('\\nPrint a slice, starting at the 4th from the end to the 2nd from the end (last item excluded):')\n",
    "print(colors[-4:-1])"
   ]
  },
  {
   "cell_type": "code",
   "execution_count": 11,
   "id": "070556a5",
   "metadata": {},
   "outputs": [
    {
     "name": "stdout",
     "output_type": "stream",
     "text": [
      "['brown', 'purple', 'orange', 'yellow', 'blue', 'green', 'red']\n",
      "['blue', 'brown', 'green', 'orange', 'purple', 'red', 'yellow']\n"
     ]
    }
   ],
   "source": [
    "# Reverse and sort the list\n",
    "colors.reverse()\n",
    "print(colors)\n",
    "\n",
    "colors.sort()\n",
    "print(colors)"
   ]
  },
  {
   "cell_type": "code",
   "execution_count": 12,
   "id": "ba5cf546",
   "metadata": {},
   "outputs": [
    {
     "name": "stdout",
     "output_type": "stream",
     "text": [
      "['blue', 'brown', 'green', 'orange', 'purple', 'red', 'yellow']\n",
      "popped blue\n",
      "['brown', 'green', 'orange', 'purple', 'red', 'yellow']\n"
     ]
    }
   ],
   "source": [
    "# Treat the list like a queue\n",
    "print(colors)\n",
    "\n",
    "color = colors.pop(0)\n",
    "print('popped', color)\n",
    "\n",
    "print(colors)"
   ]
  },
  {
   "cell_type": "code",
   "execution_count": 13,
   "id": "3bebbc3c",
   "metadata": {},
   "outputs": [
    {
     "name": "stdout",
     "output_type": "stream",
     "text": [
      "['brown', 'green', 'orange', 'purple', 'red', 'yellow']\n",
      "['brown', 'green', 'purple', 'red', 'black', 'white']\n"
     ]
    }
   ],
   "source": [
    "# Add and remove elements from a list\n",
    "\n",
    "print(colors)\n",
    "\n",
    "colors.append('black')\n",
    "colors.append('white')\n",
    "\n",
    "colors.remove('yellow')\n",
    "colors.remove('orange')\n",
    "\n",
    "print(colors)"
   ]
  },
  {
   "cell_type": "code",
   "execution_count": 14,
   "id": "3562fe8d",
   "metadata": {},
   "outputs": [
    {
     "name": "stdout",
     "output_type": "stream",
     "text": [
      "['brown', 'green', 'purple', 'red', 'black', 'white']\n",
      "['brown', 'green', 'purple', 'red', 'black', 'white', 'lime', 'gray']\n"
     ]
    }
   ],
   "source": [
    "# Combine a new list with an existing list\n",
    "print(colors)\n",
    "\n",
    "new_colors = ['lime', 'gray']\n",
    "colors.extend(new_colors)\n",
    "\n",
    "print(colors)"
   ]
  },
  {
   "cell_type": "code",
   "execution_count": 15,
   "id": "a91e25b3",
   "metadata": {},
   "outputs": [
    {
     "name": "stdout",
     "output_type": "stream",
     "text": [
      "['brown', 'green', 'purple', 'red', 'black', 'white', 'lime', 'gray']\n",
      "[]\n"
     ]
    }
   ],
   "source": [
    "# Clear all items from a list\n",
    "print(colors)\n",
    "\n",
    "colors.clear()\n",
    "\n",
    "print(colors)"
   ]
  },
  {
   "cell_type": "code",
   "execution_count": 16,
   "id": "0cf3b6e3",
   "metadata": {},
   "outputs": [
    {
     "name": "stdout",
     "output_type": "stream",
     "text": [
      "True\n",
      "False\n",
      "False\n",
      "True\n"
     ]
    }
   ],
   "source": [
    "# Test a value for inclusion in a list\n",
    "numbers = [1, 3, 5]\n",
    "\n",
    "print(5 in numbers)\n",
    "print(8 in numbers)\n",
    "\n",
    "print(5 not in numbers)\n",
    "print(8 not in numbers)"
   ]
  },
  {
   "cell_type": "code",
   "execution_count": 20,
   "id": "7a28b648",
   "metadata": {},
   "outputs": [
    {
     "name": "stdout",
     "output_type": "stream",
     "text": [
      "39\n",
      "63\n",
      "79\n",
      "85\n",
      "69\n",
      "No numbers greater than 90\n",
      "Complete\n"
     ]
    }
   ],
   "source": [
    "# loop through list\n",
    "\n",
    "import random\n",
    "numbers = []\n",
    "\n",
    "while len(numbers) < 5:\n",
    "  numbers.append(random.randint(1, 100))\n",
    "\n",
    "for number in numbers:\n",
    "  print(number)\n",
    "  if number >= 90:\n",
    "    print('Found at least one number greater than 90')\n",
    "    break\n",
    "else:\n",
    "  print('No numbers greater than 90')\n",
    "\n",
    "print('Complete')"
   ]
  },
  {
   "cell_type": "code",
   "execution_count": 21,
   "id": "108cc49d",
   "metadata": {},
   "outputs": [
    {
     "name": "stdout",
     "output_type": "stream",
     "text": [
      "['laptop', 'phone', 'dslr']\n"
     ]
    }
   ],
   "source": [
    "# Use a continue statement\n",
    "values = [\"laptop\", 7, \"phone\", 3, \"dslr\", 5]\n",
    "equipment = []\n",
    "\n",
    "for value in values:\n",
    "  if isinstance(value, str) == False:\n",
    "    continue\n",
    "  equipment.append(value)\n",
    "\n",
    "print(equipment)"
   ]
  },
  {
   "cell_type": "code",
   "execution_count": 23,
   "id": "6640fc04",
   "metadata": {},
   "outputs": [
    {
     "name": "stdout",
     "output_type": "stream",
     "text": [
      "There are 52 cards in the deck.\n",
      "Dealing ...\n",
      "There are 47 cards in the deck.\n",
      "Player has the following cards in their hand:\n",
      "['10 of Clubs', 'Queen of Hearts', '10 of Diamonds', 'Queen of Diamonds', 'Ace of Diamonds']\n"
     ]
    }
   ],
   "source": [
    "# Dealing a deck of cards\n",
    "\n",
    "import random\n",
    "\n",
    "suits = [\"Hearts\", \"Spades\", \"Clubs\", \"Diamonds\"]\n",
    "ranks = [\"2\", \"3\", \"4\", \"5\", \"6\", \"7\", \"8\", \"9\", \"10\", \"Jack\", \"Queen\", \"King\", \"Ace\"]\n",
    "deck = []\n",
    "\n",
    "for  suit in suits:\n",
    "  for rank in ranks:\n",
    "    deck.append(f'{rank} of {suit}')\n",
    "\n",
    "print(f'There are {len(deck)} cards in the deck.')\n",
    "\n",
    "print('Dealing ...')\n",
    "\n",
    "hand = []\n",
    "\n",
    "while len(hand) < 5:\n",
    "    card = random.choice(deck)\n",
    "    deck.remove(card)\n",
    "    hand.append(card)\n",
    "\n",
    "print(f'There are {len(deck)} cards in the deck.')\n",
    "print('Player has the following cards in their hand:')\n",
    "print(hand)"
   ]
  },
  {
   "cell_type": "code",
   "execution_count": null,
   "id": "b8038c8b",
   "metadata": {},
   "outputs": [],
   "source": []
  }
 ],
 "metadata": {
  "kernelspec": {
   "display_name": "Python 3 (ipykernel)",
   "language": "python",
   "name": "python3"
  },
  "language_info": {
   "codemirror_mode": {
    "name": "ipython",
    "version": 3
   },
   "file_extension": ".py",
   "mimetype": "text/x-python",
   "name": "python",
   "nbconvert_exporter": "python",
   "pygments_lexer": "ipython3",
   "version": "3.8.10"
  }
 },
 "nbformat": 4,
 "nbformat_minor": 5
}
