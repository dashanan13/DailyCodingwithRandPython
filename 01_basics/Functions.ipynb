{
 "cells": [
  {
   "cell_type": "code",
   "execution_count": 4,
   "id": "731c338b",
   "metadata": {},
   "outputs": [
    {
     "name": "stdout",
     "output_type": "stream",
     "text": [
      "Hello World!\n",
      "Hello Bob!\n",
      "Howdy World!\n",
      "Howdy Bob!\n"
     ]
    }
   ],
   "source": [
    "# Function with default argument value in case not provided\n",
    "\n",
    "def say_hello(name='World', greeting=None):\n",
    "  if greeting == None:\n",
    "    print(f'Hello {name}!')\n",
    "  else:\n",
    "    print(f'{greeting} {name}!')\n",
    "\n",
    "say_hello()\n",
    "say_hello('Bob')\n",
    "say_hello(greeting='Howdy')\n",
    "say_hello('Bob', 'Howdy')"
   ]
  },
  {
   "cell_type": "code",
   "execution_count": 5,
   "id": "c7919ea0",
   "metadata": {},
   "outputs": [
    {
     "name": "stdout",
     "output_type": "stream",
     "text": [
      "<class 'NoneType'>\n"
     ]
    }
   ],
   "source": [
    "print(type(None))"
   ]
  },
  {
   "cell_type": "code",
   "execution_count": 6,
   "id": "3b9ac22e",
   "metadata": {},
   "outputs": [
    {
     "name": "stdout",
     "output_type": "stream",
     "text": [
      "52\n"
     ]
    }
   ],
   "source": [
    "# Assign function return value\n",
    "def create_deck():\n",
    "  suits = [\"Hearts\", \"Spades\", \"Clubs\", \"Diamonds\"]\n",
    "  ranks = [\"2\", \"3\", \"4\", \"5\", \"6\", \"7\", \"8\", \"9\", \"10\", \"Jack\", \"Queen\", \"King\", \"Ace\"]\n",
    "  deck = []\n",
    "\n",
    "  for  suit in suits:\n",
    "    for rank in ranks:\n",
    "      deck.append(f'{rank} of {suit}')\n",
    "\n",
    "  return deck\n",
    "\n",
    "my_deck = create_deck()\n",
    "print(len(my_deck))"
   ]
  },
  {
   "cell_type": "code",
   "execution_count": 7,
   "id": "717605b1",
   "metadata": {},
   "outputs": [
    {
     "name": "stdout",
     "output_type": "stream",
     "text": [
      "('a',)\n",
      "<class 'tuple'>\n",
      "('a', 'b')\n",
      "<class 'tuple'>\n",
      "('a', 'b', 'c')\n",
      "<class 'tuple'>\n"
     ]
    }
   ],
   "source": [
    "# function accepting an arbitrary arguments list\n",
    "\n",
    "def print_args(*args):\n",
    "  #for arg in args:\n",
    "  #  print(f'arg = {arg}')\n",
    "  print(args)\n",
    "  print(type(args))\n",
    "\n",
    "print_args('a')\n",
    "print_args('a', 'b')\n",
    "print_args('a', 'b', 'c')\n",
    "\n",
    "# data type of *args is tuple\n",
    "# What is a tuple? In short, it's just like a list with a few differences. The most notable difference is that you can't modify the contents of a tuple. \n",
    "# In the current code sample, the function can't call append() or remove(), call sort() or reverse(), or assign a new value to an element."
   ]
  },
  {
   "cell_type": "code",
   "execution_count": 11,
   "id": "527201fe",
   "metadata": {},
   "outputs": [
    {
     "name": "stdout",
     "output_type": "stream",
     "text": [
      "\n",
      "\n",
      "{'first': 'a'}\n",
      "<class 'dict'>\n",
      "first = a\n",
      "\n",
      "\n",
      "{'first': 'b', 'second': 'c'}\n",
      "<class 'dict'>\n",
      "first = b\n",
      "second = c\n",
      "\n",
      "\n",
      "{'first': 'd', 'second': 'e', 'third': 'f'}\n",
      "<class 'dict'>\n",
      "first = d\n",
      "second = e\n",
      "third = f\n",
      "third arg = f\n"
     ]
    }
   ],
   "source": [
    "# Function that accepts keyword arguments\n",
    "# <---- IMPORTANT ---->\n",
    "\n",
    "def print_keyword_args(**kwargs):\n",
    "\n",
    "  print('\\n')\n",
    "  print(kwargs)\n",
    "  print(type(kwargs))\n",
    "\n",
    "  for key, value in kwargs.items():      #<---- Notice the iteration fives key and value\n",
    "    print(f'{key} = {value}')\n",
    "\n",
    "  third = kwargs.get('third', None)\n",
    "  if third != None:\n",
    "    print('third arg =', third)\n",
    "\n",
    "\n",
    "print_keyword_args(first='a')            #<--- funtion call needs to have a key value pair of argument name and its value\n",
    "print_keyword_args(first='b', second='c')\n",
    "print_keyword_args(first='d', second='e', third='f')\n",
    "\n",
    "# data type of **kwargs is dictionary\n",
    "#The dictionary is defined using braces symbols ({}). \n",
    "#Each item in the dictionary follows the format '<name>': '<value>'. \n"
   ]
  },
  {
   "cell_type": "markdown",
   "id": "b5ab0fa7",
   "metadata": {},
   "source": [
    "# Define a module"
   ]
  },
  {
   "cell_type": "code",
   "execution_count": 12,
   "id": "ad7d6bed",
   "metadata": {},
   "outputs": [],
   "source": [
    "# Another file called deck.py is present in the same folder holding the code for function that will be called\n",
    "# The create_deck() function returns a list called deck. \n",
    "# The list contains 52 strings that represent every combination of suit and rank in a standard deck of cards."
   ]
  },
  {
   "cell_type": "code",
   "execution_count": 13,
   "id": "4deb9e1a",
   "metadata": {},
   "outputs": [
    {
     "name": "stdout",
     "output_type": "stream",
     "text": [
      "2 of Hearts\n",
      "3 of Hearts\n",
      "4 of Hearts\n",
      "5 of Hearts\n",
      "6 of Hearts\n",
      "7 of Hearts\n",
      "8 of Hearts\n",
      "9 of Hearts\n",
      "10 of Hearts\n",
      "Jack of Hearts\n",
      "Queen of Hearts\n",
      "King of Hearts\n",
      "Ace of Hearts\n",
      "2 of Spades\n",
      "3 of Spades\n",
      "4 of Spades\n",
      "5 of Spades\n",
      "6 of Spades\n",
      "7 of Spades\n",
      "8 of Spades\n",
      "9 of Spades\n",
      "10 of Spades\n",
      "Jack of Spades\n",
      "Queen of Spades\n",
      "King of Spades\n",
      "Ace of Spades\n",
      "2 of Clubs\n",
      "3 of Clubs\n",
      "4 of Clubs\n",
      "5 of Clubs\n",
      "6 of Clubs\n",
      "7 of Clubs\n",
      "8 of Clubs\n",
      "9 of Clubs\n",
      "10 of Clubs\n",
      "Jack of Clubs\n",
      "Queen of Clubs\n",
      "King of Clubs\n",
      "Ace of Clubs\n",
      "2 of Diamonds\n",
      "3 of Diamonds\n",
      "4 of Diamonds\n",
      "5 of Diamonds\n",
      "6 of Diamonds\n",
      "7 of Diamonds\n",
      "8 of Diamonds\n",
      "9 of Diamonds\n",
      "10 of Diamonds\n",
      "Jack of Diamonds\n",
      "Queen of Diamonds\n",
      "King of Diamonds\n",
      "Ace of Diamonds\n"
     ]
    }
   ],
   "source": [
    "import deck\n",
    "\n",
    "cards = deck.create_deck()\n",
    "\n",
    "for card in cards:\n",
    "  print(card)"
   ]
  },
  {
   "cell_type": "code",
   "execution_count": null,
   "id": "cbb7f102",
   "metadata": {},
   "outputs": [],
   "source": []
  }
 ],
 "metadata": {
  "kernelspec": {
   "display_name": "Python 3 (ipykernel)",
   "language": "python",
   "name": "python3"
  },
  "language_info": {
   "codemirror_mode": {
    "name": "ipython",
    "version": 3
   },
   "file_extension": ".py",
   "mimetype": "text/x-python",
   "name": "python",
   "nbconvert_exporter": "python",
   "pygments_lexer": "ipython3",
   "version": "3.8.10"
  }
 },
 "nbformat": 4,
 "nbformat_minor": 5
}
