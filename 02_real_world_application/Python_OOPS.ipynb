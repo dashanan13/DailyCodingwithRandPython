{
 "cells": [
  {
   "cell_type": "code",
   "execution_count": null,
   "id": "c250b2b6",
   "metadata": {},
   "outputs": [],
   "source": [
    "#Python supports an interactive console experience, which allows you to type in commands and see the results immediately.\n",
    "#This experience is sometimes referred to as a \"Read-Eval-Print-Loop\" or REPL\n"
   ]
  },
  {
   "cell_type": "code",
   "execution_count": null,
   "id": "827a59cd",
   "metadata": {},
   "outputs": [
    {
     "name": "stdout",
     "output_type": "stream",
     "text": [
      "\n",
      "Welcome to Python 3.8's help utility!\n",
      "\n",
      "If this is your first time using Python, you should definitely check out\n",
      "the tutorial on the Internet at https://docs.python.org/3.8/tutorial/.\n",
      "\n",
      "Enter the name of any module, keyword, or topic to get help on writing\n",
      "Python programs and using Python modules.  To quit this help utility and\n",
      "return to the interpreter, just type \"quit\".\n",
      "\n",
      "To get a list of available modules, keywords, symbols, or topics, type\n",
      "\"modules\", \"keywords\", \"symbols\", or \"topics\".  Each module also comes\n",
      "with a one-line summary of what it does; to list the modules whose name\n",
      "or summary contain a given string such as \"spam\", type \"modules spam\".\n",
      "\n"
     ]
    }
   ],
   "source": [
    "help()"
   ]
  },
  {
   "cell_type": "code",
   "execution_count": null,
   "id": "6da95ed7",
   "metadata": {},
   "outputs": [],
   "source": [
    "# Python class definition and constructor\n",
    "\n",
    "# In Python, the constructor has the name __init()__. \n",
    "# You also need to pass a special keyword, self, as a parameter to the constructor. \n",
    "# The keyword self refers to the object's instance. \n",
    "# Any assignment to this keyword means that the attribute ends up on the object instance. \n",
    "# If you don't add an attribute to self, it will instead be treated as a temporary variable that won't exist after __init()__ is done executing."
   ]
  },
  {
   "cell_type": "code",
   "execution_count": 1,
   "id": "acefbee0",
   "metadata": {},
   "outputs": [
    {
     "name": "stdout",
     "output_type": "stream",
     "text": [
      "The elevator company\n",
      "1\n"
     ]
    }
   ],
   "source": [
    "\n",
    "\n",
    "class Elevator:                                     #<---- Class definition syntax\n",
    "  def __init__(self, starting_floor):               #<---- Constructor definition, its always __init__\n",
    "    self.make = \"The elevator company\"              #<---- Initializing class attributes, 'self.' makes them attribute and not internal vairables\n",
    "    self.floor = starting_floor\n",
    "\n",
    "# To create the object\n",
    "\n",
    "elevator = Elevator(1)\n",
    "print(elevator.make) # \"The Elevator company\"\n",
    "print(elevator.floor) # 1"
   ]
  },
  {
   "cell_type": "code",
   "execution_count": 2,
   "id": "ebcb692e",
   "metadata": {},
   "outputs": [
    {
     "ename": "TypeError",
     "evalue": "__init__() takes 0 positional arguments but 1 was given",
     "output_type": "error",
     "traceback": [
      "\u001b[0;31m---------------------------------------------------------------------------\u001b[0m",
      "\u001b[0;31mTypeError\u001b[0m                                 Traceback (most recent call last)",
      "\u001b[0;32m/tmp/ipykernel_271077/3315471866.py\u001b[0m in \u001b[0;36m<module>\u001b[0;34m\u001b[0m\n\u001b[1;32m      4\u001b[0m     \u001b[0mmake\u001b[0m \u001b[0;34m=\u001b[0m \u001b[0;34m\"Mercedes\"\u001b[0m \u001b[0;31m# becomes a local variable in the constructor\u001b[0m\u001b[0;34m\u001b[0m\u001b[0;34m\u001b[0m\u001b[0m\n\u001b[1;32m      5\u001b[0m \u001b[0;34m\u001b[0m\u001b[0m\n\u001b[0;32m----> 6\u001b[0;31m \u001b[0mcar\u001b[0m \u001b[0;34m=\u001b[0m \u001b[0mCar\u001b[0m\u001b[0;34m(\u001b[0m\u001b[0;34m)\u001b[0m\u001b[0;34m\u001b[0m\u001b[0;34m\u001b[0m\u001b[0m\n\u001b[0m\u001b[1;32m      7\u001b[0m \u001b[0mprint\u001b[0m\u001b[0;34m(\u001b[0m\u001b[0mcar\u001b[0m\u001b[0;34m.\u001b[0m\u001b[0mcolor\u001b[0m\u001b[0;34m)\u001b[0m \u001b[0;31m# \"Red\"\u001b[0m\u001b[0;34m\u001b[0m\u001b[0;34m\u001b[0m\u001b[0m\n\u001b[1;32m      8\u001b[0m \u001b[0mprint\u001b[0m\u001b[0;34m(\u001b[0m\u001b[0mcar\u001b[0m\u001b[0;34m.\u001b[0m\u001b[0mmake\u001b[0m\u001b[0;34m)\u001b[0m \u001b[0;31m# would result in an error, `make` does not exist on the object\u001b[0m\u001b[0;34m\u001b[0m\u001b[0;34m\u001b[0m\u001b[0m\n",
      "\u001b[0;31mTypeError\u001b[0m: __init__() takes 0 positional arguments but 1 was given"
     ]
    }
   ],
   "source": [
    "class Car:\n",
    "  def __init__():\n",
    "    self.color = \"Red\" # ends up on the object\n",
    "    make = \"Mercedes\" # becomes a local variable in the constructor\n",
    "\n",
    "car = Car()\n",
    "print(car.color) # \"Red\"\n",
    "print(car.make) # would result in an error, `make` does not exist on the object"
   ]
  },
  {
   "cell_type": "markdown",
   "id": "d8583850",
   "metadata": {},
   "source": [
    "# private attributes for a class and private functions"
   ]
  },
  {
   "cell_type": "code",
   "execution_count": 5,
   "id": "3f8201c9",
   "metadata": {},
   "outputs": [],
   "source": [
    "\n",
    "# The way Python accomplishes data hiding is by adding prefixes to attribute names. \n",
    "# One leading underscore, _, is a message to the outside world that this data probably shouldn't be touched. \n",
    "#When you modify the square class, you end up with this code:\n",
    "\n",
    "class Square:\n",
    "    def __init__(self):\n",
    "      self._height = 2\n",
    "      self._width = 2\n",
    "    def set_side(new_side):\n",
    "      self._height = new_side\n",
    "      self._width = new_side\n",
    "\n",
    "square = Square()\n",
    "square._height = 3 # not a square anymore\n"
   ]
  },
  {
   "cell_type": "code",
   "execution_count": 6,
   "id": "f881fd1a",
   "metadata": {},
   "outputs": [],
   "source": [
    "\n",
    "# One leading underscore still allows for data to be modified, which Python refers to as protected. \n",
    "# Can we do this better? Yes we can, by having two leading underscores, __, which is referred to as private. \n",
    "\n",
    "class Square:\n",
    "    def __init__(self):\n",
    "      self.__height = 2\n",
    "      self.__width = 2\n",
    "    def set_side(new_side):\n",
    "      self.__height = new_side\n",
    "      self.__width = new_side\n",
    "\n",
    "square = Square()\n",
    "square.__height = 3 # raises AttributeError\n",
    "    \n",
    "square._Square__height = 3 # is allowed    \n",
    "\n",
    "#Many other languages that implement data protection solve this issue differently. \n",
    "#Python is unique in that data protection is more like levels of suggestion rather than being strictly implemented."
   ]
  },
  {
   "cell_type": "markdown",
   "id": "20376566",
   "metadata": {},
   "source": [
    "# Use decorators for getters and setters"
   ]
  },
  {
   "cell_type": "raw",
   "id": "102e4100",
   "metadata": {},
   "source": [
    "<-------- SOO IMPORTANT BUT ADVANCED -------->\n",
    "\n",
    "Decorators are an important subject in Python. \n",
    "They're part of a larger subject called meta programming. \n",
    "Decorators are functions that take your function as an input. \n",
    "The idea is to encode reusable functionality as decorator functions and then decorate other functions with it. \n",
    "The purpose is to give your function a feature it didn't have before. \n",
    "A decorator can, for example, add fields to your object, measure the time it takes to invocate a function, and do much more.\n",
    "\n",
    "In the context of OOP and getters and setters, a specific decorator @property can help you remove some boilerplate code when you add getters and setters. \n",
    "The @property decorator does the following things for you:\n",
    "\n",
    "Creates a backing field: When you decorate a function with the @property decorator, it creates a backing private field. \n",
    "You can override this behavior if you want, but it's nice to have a default behavior.\n",
    "\n",
    "Identifies a setter: A setter method can change the backing field.\n",
    "Identifies a getter: This function should return the backing field.\n",
    "Identifies a delete function: This function can delete the field.\n",
    "Let's see this decorator in action:\n",
    "\n",
    "In the preceding code, the function height() is decorated by the decorator @property. \n",
    "This decoration action creates the private field __height. \n",
    "The __height field isn't defined in the constructor __init__() because the decorator does that already. \n",
    "There's also another decoration happening, namely, @height.setter. \n",
    "This decoration points out a similar-looking height() method as the setter. \n",
    "The new height method takes an another parameter value as its second parameter.\n",
    "\n",
    "Being able to manipulate the height separate from the width will still cause a problem. \n",
    "You'll need to understand what the class does before you consider allowing getters and setters, because you're introducing risk."
   ]
  },
  {
   "cell_type": "code",
   "execution_count": 12,
   "id": "7fc68753",
   "metadata": {},
   "outputs": [],
   "source": [
    "class Square:\n",
    "  def __init__(self, w, h):\n",
    "    self.height = h\n",
    "    self.__width = w\n",
    "  \n",
    "  def set_side(self, new_side):\n",
    "    self.__height = new_side\n",
    "    self.__width = new_side\n",
    "\n",
    "  @property\n",
    "  def height(self):\n",
    "    return self.__height\n",
    "\n",
    "  @height.setter\n",
    "  def height(self, new_value):\n",
    "    if new_value >= 0:\n",
    "      self.__height = new_value\n",
    "    else:\n",
    "      raise Exception(\"Value must be larger than 0\")"
   ]
  },
  {
   "cell_type": "code",
   "execution_count": null,
   "id": "55d2e6f5",
   "metadata": {},
   "outputs": [],
   "source": []
  }
 ],
 "metadata": {
  "kernelspec": {
   "display_name": "Python 3 (ipykernel)",
   "language": "python",
   "name": "python3"
  },
  "language_info": {
   "codemirror_mode": {
    "name": "ipython",
    "version": 3
   },
   "file_extension": ".py",
   "mimetype": "text/x-python",
   "name": "python",
   "nbconvert_exporter": "python",
   "pygments_lexer": "ipython3",
   "version": "3.8.10"
  }
 },
 "nbformat": 4,
 "nbformat_minor": 5
}
