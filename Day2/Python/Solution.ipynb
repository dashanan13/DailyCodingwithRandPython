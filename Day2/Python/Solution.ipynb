{
 "cells": [
  {
   "cell_type": "code",
   "execution_count": 31,
   "id": "51720e5a-c0e4-4fc8-b096-7cda5aad0a99",
   "metadata": {},
   "outputs": [],
   "source": [
    "import numpy as np"
   ]
  },
  {
   "cell_type": "code",
   "execution_count": 32,
   "id": "f07e690c-0f7f-4a50-be33-ed95f87a2f2e",
   "metadata": {},
   "outputs": [],
   "source": [
    "numlist = list(range(1,27))\n",
    "\n",
    "charlist = list(map(chr, range(97,123)))"
   ]
  },
  {
   "cell_type": "code",
   "execution_count": 36,
   "id": "cc9a3e93-e9b4-4d3e-bebe-d1e4ba2a2843",
   "metadata": {},
   "outputs": [
    {
     "name": "stdout",
     "output_type": "stream",
     "text": [
      "<class 'numpy.ndarray'>\n",
      "[1, 2, 3, 4, 5, 6, 7, 8, 9, 10, 11, 12, 13, 14, 15, 16, 17, 18, 19, 20, 21, 22, 23, 24, 25, 26]\n",
      "['a', 'b', 'c', 'd', 'e', 'f', 'g', 'h', 'i', 'j', 'k', 'l', 'm', 'n', 'o', 'p', 'q', 'r', 's', 't', 'u', 'v', 'w', 'x', 'y', 'z']\n"
     ]
    }
   ],
   "source": [
    "mylist = np.array([numlist, charlist])\n",
    "print(type(mylist))\n",
    "print(numlist)\n",
    "print(charlist)"
   ]
  },
  {
   "cell_type": "code",
   "execution_count": 34,
   "id": "4381448f-fd05-4aec-9c95-2867e42e3aa4",
   "metadata": {},
   "outputs": [
    {
     "ename": "SyntaxError",
     "evalue": "unterminated string literal (detected at line 1) (2455849652.py, line 1)",
     "output_type": "error",
     "traceback": [
      "\u001b[0;36m  Cell \u001b[0;32mIn[34], line 1\u001b[0;36m\u001b[0m\n\u001b[0;31m    Good morning! Here's your coding interview problem for today.\u001b[0m\n\u001b[0m                      ^\u001b[0m\n\u001b[0;31mSyntaxError\u001b[0m\u001b[0;31m:\u001b[0m unterminated string literal (detected at line 1)\n"
     ]
    }
   ],
   "source": [
    "Good morning! Here's your coding interview problem for today.\n",
    "\n",
    "This problem was asked by Facebook.\n",
    "\n",
    "Given the mapping a = 1, b = 2, ... z = 26, and an encoded message, count the number of ways it can be decoded.\n",
    "\n",
    "For example, the message '111' would give 3, since it could be decoded as 'aaa', 'ka', and 'ak'.\n",
    "\n",
    "You can assume that the messages are decodable. For example, '001' is not allowed."
   ]
  },
  {
   "cell_type": "code",
   "execution_count": 39,
   "id": "45208732-4777-4dff-b729-190bca3cfc8d",
   "metadata": {},
   "outputs": [
    {
     "name": "stdout",
     "output_type": "stream",
     "text": [
      "z\n",
      "26\n"
     ]
    }
   ],
   "source": [
    "print(mylist[1][25])\n",
    "print(mylist[0][25])"
   ]
  },
  {
   "cell_type": "code",
   "execution_count": null,
   "id": "b974c52e-c34a-4956-85d1-02a9bdefe01a",
   "metadata": {},
   "outputs": [],
   "source": [
    "def solfn(mymsg):\n",
    "    "
   ]
  }
 ],
 "metadata": {
  "kernelspec": {
   "display_name": "Python 3 (ipykernel)",
   "language": "python",
   "name": "python3"
  },
  "language_info": {
   "codemirror_mode": {
    "name": "ipython",
    "version": 3
   },
   "file_extension": ".py",
   "mimetype": "text/x-python",
   "name": "python",
   "nbconvert_exporter": "python",
   "pygments_lexer": "ipython3",
   "version": "3.10.6"
  }
 },
 "nbformat": 4,
 "nbformat_minor": 5
}
